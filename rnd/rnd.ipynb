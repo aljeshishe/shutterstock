{
 "cells": [
  {
   "cell_type": "code",
   "execution_count": 2,
   "metadata": {
    "collapsed": true,
    "pycharm": {
     "name": "#%%\n"
    }
   },
   "outputs": [],
   "source": [
    "import pandas as pd\n"
   ]
  },
  {
   "cell_type": "code",
   "execution_count": 3,
   "metadata": {
    "pycharm": {
     "name": "#%%\n"
    }
   },
   "outputs": [
    {
     "data": {
      "text/plain": "      count          city country\n0         0   Zeytinliova  Turkey\n1         1         Yunak  Turkey\n2        82     Yuksekova  Turkey\n3        12         Kozak  Turkey\n4         0     Zeytindag  Turkey\n...     ...           ...     ...\n1736      7  Merkezefendi  Turkey\n1737    719        Merkez  Turkey\n1738      0     UEmraniye  Turkey\n1739      0       Kurecik  Turkey\n1740    250       Ilkadim  Turkey\n\n[1741 rows x 3 columns]",
      "text/html": "<div>\n<style scoped>\n    .dataframe tbody tr th:only-of-type {\n        vertical-align: middle;\n    }\n\n    .dataframe tbody tr th {\n        vertical-align: top;\n    }\n\n    .dataframe thead th {\n        text-align: right;\n    }\n</style>\n<table border=\"1\" class=\"dataframe\">\n  <thead>\n    <tr style=\"text-align: right;\">\n      <th></th>\n      <th>count</th>\n      <th>city</th>\n      <th>country</th>\n    </tr>\n  </thead>\n  <tbody>\n    <tr>\n      <th>0</th>\n      <td>0</td>\n      <td>Zeytinliova</td>\n      <td>Turkey</td>\n    </tr>\n    <tr>\n      <th>1</th>\n      <td>1</td>\n      <td>Yunak</td>\n      <td>Turkey</td>\n    </tr>\n    <tr>\n      <th>2</th>\n      <td>82</td>\n      <td>Yuksekova</td>\n      <td>Turkey</td>\n    </tr>\n    <tr>\n      <th>3</th>\n      <td>12</td>\n      <td>Kozak</td>\n      <td>Turkey</td>\n    </tr>\n    <tr>\n      <th>4</th>\n      <td>0</td>\n      <td>Zeytindag</td>\n      <td>Turkey</td>\n    </tr>\n    <tr>\n      <th>...</th>\n      <td>...</td>\n      <td>...</td>\n      <td>...</td>\n    </tr>\n    <tr>\n      <th>1736</th>\n      <td>7</td>\n      <td>Merkezefendi</td>\n      <td>Turkey</td>\n    </tr>\n    <tr>\n      <th>1737</th>\n      <td>719</td>\n      <td>Merkez</td>\n      <td>Turkey</td>\n    </tr>\n    <tr>\n      <th>1738</th>\n      <td>0</td>\n      <td>UEmraniye</td>\n      <td>Turkey</td>\n    </tr>\n    <tr>\n      <th>1739</th>\n      <td>0</td>\n      <td>Kurecik</td>\n      <td>Turkey</td>\n    </tr>\n    <tr>\n      <th>1740</th>\n      <td>250</td>\n      <td>Ilkadim</td>\n      <td>Turkey</td>\n    </tr>\n  </tbody>\n</table>\n<p>1741 rows × 3 columns</p>\n</div>"
     },
     "execution_count": 3,
     "metadata": {},
     "output_type": "execute_result"
    }
   ],
   "source": [
    "df = pd.read_json(\"../results.jsonl\", lines=True)\n",
    "df"
   ]
  },
  {
   "cell_type": "code",
   "execution_count": 4,
   "outputs": [
    {
     "data": {
      "text/plain": "        geonameid                 name            asciiname  latitude  \\\n0         3039154            El Tarter            El Tarter  42.57952   \n1         3039163  Sant Julià de Lòria  Sant Julia de Loria  42.46372   \n2         3039604       Pas de la Casa       Pas de la Casa  42.54277   \n3         3039678               Ordino               Ordino  42.55623   \n4         3040051         les Escaldes         les Escaldes  42.50729   \n...           ...                  ...                  ...       ...   \n140818     895269           Beitbridge           Beitbridge -22.21667   \n140819     895308             Beatrice             Beatrice -18.25283   \n140820     895417               Banket               Banket -17.38333   \n140821    1085510              Epworth              Epworth -17.89000   \n140822    1106542          Chitungwiza          Chitungwiza -18.01274   \n\n        longitude  population   Country  \n0         1.65362        1052   Andorra  \n1         1.49129        8022   Andorra  \n2         1.73361        2363   Andorra  \n3         1.53319        3066   Andorra  \n4         1.53414       15853   Andorra  \n...           ...         ...       ...  \n140818   30.00000       58100  Zimbabwe  \n140819   30.84730        1647  Zimbabwe  \n140820   30.40000        9641  Zimbabwe  \n140821   31.14750      123250  Zimbabwe  \n140822   31.07555      371244  Zimbabwe  \n\n[140823 rows x 7 columns]",
      "text/html": "<div>\n<style scoped>\n    .dataframe tbody tr th:only-of-type {\n        vertical-align: middle;\n    }\n\n    .dataframe tbody tr th {\n        vertical-align: top;\n    }\n\n    .dataframe thead th {\n        text-align: right;\n    }\n</style>\n<table border=\"1\" class=\"dataframe\">\n  <thead>\n    <tr style=\"text-align: right;\">\n      <th></th>\n      <th>geonameid</th>\n      <th>name</th>\n      <th>asciiname</th>\n      <th>latitude</th>\n      <th>longitude</th>\n      <th>population</th>\n      <th>Country</th>\n    </tr>\n  </thead>\n  <tbody>\n    <tr>\n      <th>0</th>\n      <td>3039154</td>\n      <td>El Tarter</td>\n      <td>El Tarter</td>\n      <td>42.57952</td>\n      <td>1.65362</td>\n      <td>1052</td>\n      <td>Andorra</td>\n    </tr>\n    <tr>\n      <th>1</th>\n      <td>3039163</td>\n      <td>Sant Julià de Lòria</td>\n      <td>Sant Julia de Loria</td>\n      <td>42.46372</td>\n      <td>1.49129</td>\n      <td>8022</td>\n      <td>Andorra</td>\n    </tr>\n    <tr>\n      <th>2</th>\n      <td>3039604</td>\n      <td>Pas de la Casa</td>\n      <td>Pas de la Casa</td>\n      <td>42.54277</td>\n      <td>1.73361</td>\n      <td>2363</td>\n      <td>Andorra</td>\n    </tr>\n    <tr>\n      <th>3</th>\n      <td>3039678</td>\n      <td>Ordino</td>\n      <td>Ordino</td>\n      <td>42.55623</td>\n      <td>1.53319</td>\n      <td>3066</td>\n      <td>Andorra</td>\n    </tr>\n    <tr>\n      <th>4</th>\n      <td>3040051</td>\n      <td>les Escaldes</td>\n      <td>les Escaldes</td>\n      <td>42.50729</td>\n      <td>1.53414</td>\n      <td>15853</td>\n      <td>Andorra</td>\n    </tr>\n    <tr>\n      <th>...</th>\n      <td>...</td>\n      <td>...</td>\n      <td>...</td>\n      <td>...</td>\n      <td>...</td>\n      <td>...</td>\n      <td>...</td>\n    </tr>\n    <tr>\n      <th>140818</th>\n      <td>895269</td>\n      <td>Beitbridge</td>\n      <td>Beitbridge</td>\n      <td>-22.21667</td>\n      <td>30.00000</td>\n      <td>58100</td>\n      <td>Zimbabwe</td>\n    </tr>\n    <tr>\n      <th>140819</th>\n      <td>895308</td>\n      <td>Beatrice</td>\n      <td>Beatrice</td>\n      <td>-18.25283</td>\n      <td>30.84730</td>\n      <td>1647</td>\n      <td>Zimbabwe</td>\n    </tr>\n    <tr>\n      <th>140820</th>\n      <td>895417</td>\n      <td>Banket</td>\n      <td>Banket</td>\n      <td>-17.38333</td>\n      <td>30.40000</td>\n      <td>9641</td>\n      <td>Zimbabwe</td>\n    </tr>\n    <tr>\n      <th>140821</th>\n      <td>1085510</td>\n      <td>Epworth</td>\n      <td>Epworth</td>\n      <td>-17.89000</td>\n      <td>31.14750</td>\n      <td>123250</td>\n      <td>Zimbabwe</td>\n    </tr>\n    <tr>\n      <th>140822</th>\n      <td>1106542</td>\n      <td>Chitungwiza</td>\n      <td>Chitungwiza</td>\n      <td>-18.01274</td>\n      <td>31.07555</td>\n      <td>371244</td>\n      <td>Zimbabwe</td>\n    </tr>\n  </tbody>\n</table>\n<p>140823 rows × 7 columns</p>\n</div>"
     },
     "execution_count": 4,
     "metadata": {},
     "output_type": "execute_result"
    }
   ],
   "source": [
    "df_cities = pd.read_csv(\"../cities500_merged.csv\")\n",
    "df_cities"
   ],
   "metadata": {
    "collapsed": false,
    "pycharm": {
     "name": "#%%\n"
    }
   }
  },
  {
   "cell_type": "code",
   "execution_count": 5,
   "outputs": [
    {
     "data": {
      "text/plain": "     count          city country  geonameid          name     asciiname  \\\n0        0   Zeytinliova  Turkey     295907   Zeytinliova   Zeytinliova   \n1        1         Yunak  Turkey     296134         Yunak         Yunak   \n2       12         Kozak  Turkey     296509         Kozak         Kozak   \n3     8390         Demre  Turkey     295781         Demre         Demre   \n4       69          Zara  Turkey     295982          Zara          Zara   \n..     ...           ...     ...        ...           ...           ...   \n753      0           Sur  Turkey   10048774           Sur           Sur   \n754    206      Yakutiye  Turkey   10332081      Yakutiye      Yakutiye   \n755    315         Kepez  Turkey   10377367         Kepez         Kepez   \n756      7  Merkezefendi  Turkey   11238838  Merkezefendi  Merkezefendi   \n757    719        Merkez  Turkey   10375669        Merkez        Merkez   \n\n     latitude  longitude  population Country _merge  \n0    38.99118   27.67635        4905  Turkey   both  \n1    38.81418   31.73223       14050  Turkey   both  \n2    39.25124   27.09021           0  Turkey   both  \n3    36.24444   29.98500       14420  Turkey   both  \n4    39.89778   37.75833       12797  Turkey   both  \n..        ...        ...         ...     ...    ...  \n753  37.91351   40.22859           0  Turkey   both  \n754  39.89821   41.26916           0  Turkey   both  \n755  36.91579   30.70782           0  Turkey   both  \n756  37.80544   29.04236      280341  Turkey   both  \n757  40.12954   26.42075           0  Turkey   both  \n\n[758 rows x 11 columns]",
      "text/html": "<div>\n<style scoped>\n    .dataframe tbody tr th:only-of-type {\n        vertical-align: middle;\n    }\n\n    .dataframe tbody tr th {\n        vertical-align: top;\n    }\n\n    .dataframe thead th {\n        text-align: right;\n    }\n</style>\n<table border=\"1\" class=\"dataframe\">\n  <thead>\n    <tr style=\"text-align: right;\">\n      <th></th>\n      <th>count</th>\n      <th>city</th>\n      <th>country</th>\n      <th>geonameid</th>\n      <th>name</th>\n      <th>asciiname</th>\n      <th>latitude</th>\n      <th>longitude</th>\n      <th>population</th>\n      <th>Country</th>\n      <th>_merge</th>\n    </tr>\n  </thead>\n  <tbody>\n    <tr>\n      <th>0</th>\n      <td>0</td>\n      <td>Zeytinliova</td>\n      <td>Turkey</td>\n      <td>295907</td>\n      <td>Zeytinliova</td>\n      <td>Zeytinliova</td>\n      <td>38.99118</td>\n      <td>27.67635</td>\n      <td>4905</td>\n      <td>Turkey</td>\n      <td>both</td>\n    </tr>\n    <tr>\n      <th>1</th>\n      <td>1</td>\n      <td>Yunak</td>\n      <td>Turkey</td>\n      <td>296134</td>\n      <td>Yunak</td>\n      <td>Yunak</td>\n      <td>38.81418</td>\n      <td>31.73223</td>\n      <td>14050</td>\n      <td>Turkey</td>\n      <td>both</td>\n    </tr>\n    <tr>\n      <th>2</th>\n      <td>12</td>\n      <td>Kozak</td>\n      <td>Turkey</td>\n      <td>296509</td>\n      <td>Kozak</td>\n      <td>Kozak</td>\n      <td>39.25124</td>\n      <td>27.09021</td>\n      <td>0</td>\n      <td>Turkey</td>\n      <td>both</td>\n    </tr>\n    <tr>\n      <th>3</th>\n      <td>8390</td>\n      <td>Demre</td>\n      <td>Turkey</td>\n      <td>295781</td>\n      <td>Demre</td>\n      <td>Demre</td>\n      <td>36.24444</td>\n      <td>29.98500</td>\n      <td>14420</td>\n      <td>Turkey</td>\n      <td>both</td>\n    </tr>\n    <tr>\n      <th>4</th>\n      <td>69</td>\n      <td>Zara</td>\n      <td>Turkey</td>\n      <td>295982</td>\n      <td>Zara</td>\n      <td>Zara</td>\n      <td>39.89778</td>\n      <td>37.75833</td>\n      <td>12797</td>\n      <td>Turkey</td>\n      <td>both</td>\n    </tr>\n    <tr>\n      <th>...</th>\n      <td>...</td>\n      <td>...</td>\n      <td>...</td>\n      <td>...</td>\n      <td>...</td>\n      <td>...</td>\n      <td>...</td>\n      <td>...</td>\n      <td>...</td>\n      <td>...</td>\n      <td>...</td>\n    </tr>\n    <tr>\n      <th>753</th>\n      <td>0</td>\n      <td>Sur</td>\n      <td>Turkey</td>\n      <td>10048774</td>\n      <td>Sur</td>\n      <td>Sur</td>\n      <td>37.91351</td>\n      <td>40.22859</td>\n      <td>0</td>\n      <td>Turkey</td>\n      <td>both</td>\n    </tr>\n    <tr>\n      <th>754</th>\n      <td>206</td>\n      <td>Yakutiye</td>\n      <td>Turkey</td>\n      <td>10332081</td>\n      <td>Yakutiye</td>\n      <td>Yakutiye</td>\n      <td>39.89821</td>\n      <td>41.26916</td>\n      <td>0</td>\n      <td>Turkey</td>\n      <td>both</td>\n    </tr>\n    <tr>\n      <th>755</th>\n      <td>315</td>\n      <td>Kepez</td>\n      <td>Turkey</td>\n      <td>10377367</td>\n      <td>Kepez</td>\n      <td>Kepez</td>\n      <td>36.91579</td>\n      <td>30.70782</td>\n      <td>0</td>\n      <td>Turkey</td>\n      <td>both</td>\n    </tr>\n    <tr>\n      <th>756</th>\n      <td>7</td>\n      <td>Merkezefendi</td>\n      <td>Turkey</td>\n      <td>11238838</td>\n      <td>Merkezefendi</td>\n      <td>Merkezefendi</td>\n      <td>37.80544</td>\n      <td>29.04236</td>\n      <td>280341</td>\n      <td>Turkey</td>\n      <td>both</td>\n    </tr>\n    <tr>\n      <th>757</th>\n      <td>719</td>\n      <td>Merkez</td>\n      <td>Turkey</td>\n      <td>10375669</td>\n      <td>Merkez</td>\n      <td>Merkez</td>\n      <td>40.12954</td>\n      <td>26.42075</td>\n      <td>0</td>\n      <td>Turkey</td>\n      <td>both</td>\n    </tr>\n  </tbody>\n</table>\n<p>758 rows × 11 columns</p>\n</div>"
     },
     "execution_count": 5,
     "metadata": {},
     "output_type": "execute_result"
    }
   ],
   "source": [
    "merged_df = pd.merge(df, df_cities, left_on=[\"city\", \"country\"], right_on=[\"name\", \"Country\"], how=\"inner\",\n",
    "                     indicator=True)\n",
    "merged_df"
   ],
   "metadata": {
    "collapsed": false,
    "pycharm": {
     "name": "#%%\n"
    }
   }
  },
  {
   "cell_type": "code",
   "execution_count": 6,
   "outputs": [
    {
     "data": {
      "text/plain": "Empty DataFrame\nColumns: [count, city, country, geonameid, name, asciiname, latitude, longitude, population, Country, _merge]\nIndex: []",
      "text/html": "<div>\n<style scoped>\n    .dataframe tbody tr th:only-of-type {\n        vertical-align: middle;\n    }\n\n    .dataframe tbody tr th {\n        vertical-align: top;\n    }\n\n    .dataframe thead th {\n        text-align: right;\n    }\n</style>\n<table border=\"1\" class=\"dataframe\">\n  <thead>\n    <tr style=\"text-align: right;\">\n      <th></th>\n      <th>count</th>\n      <th>city</th>\n      <th>country</th>\n      <th>geonameid</th>\n      <th>name</th>\n      <th>asciiname</th>\n      <th>latitude</th>\n      <th>longitude</th>\n      <th>population</th>\n      <th>Country</th>\n      <th>_merge</th>\n    </tr>\n  </thead>\n  <tbody>\n  </tbody>\n</table>\n</div>"
     },
     "execution_count": 6,
     "metadata": {},
     "output_type": "execute_result"
    }
   ],
   "source": [
    "not_merged = merged_df[merged_df[\"_merge\"] != \"both\"]\n",
    "assert len(not_merged) == 0\n",
    "not_merged\n"
   ],
   "metadata": {
    "collapsed": false,
    "pycharm": {
     "name": "#%%\n"
    }
   }
  },
  {
   "cell_type": "code",
   "execution_count": 28,
   "outputs": [],
   "source": [
    "import plotly.io as io\n",
    "import plotly.express as px\n",
    "px.set_mapbox_access_token(\"pk.eyJ1IjoiYWxqZXNoaXNoZSIsImEiOiJjbGJwaHJiajMwc3pxM3FxaDc4anltemN1In0.XZoRGDAvlJjbC21qfZTJcA\")\n",
    "io.renderers.default = 'browser'\n",
    "\n",
    "import plotly.express as px\n",
    "\n",
    "import plotly.graph_objects as go\n",
    "\n",
    "fig = px.scatter_mapbox(merged_df, lat='latitude', lon='longitude', size=\"count\",\n",
    "                        center=dict(lat=36.854598, lon=28.261513), zoom=5,\n",
    "                        size_max=100,\n",
    "                        # mapbox_style=\"stamen-terrain\",\n",
    "                        mapbox_style=\"basic\",\n",
    "                        hover_name=\"name\", color=\"population\", color_continuous_scale=px.colors.sequential.Plasma)\n",
    "\n",
    "fig.show()\n"
   ],
   "metadata": {
    "collapsed": false,
    "pycharm": {
     "name": "#%%\n"
    }
   }
  },
  {
   "cell_type": "code",
   "execution_count": 19,
   "outputs": [
    {
     "ename": "ValueError",
     "evalue": "All arguments should have the same length. The length of column argument `df[lat]` is 758, whereas the length of  previously-processed arguments ['z'] is 1741",
     "output_type": "error",
     "traceback": [
      "\u001B[0;31m---------------------------------------------------------------------------\u001B[0m",
      "\u001B[0;31mValueError\u001B[0m                                Traceback (most recent call last)",
      "Cell \u001B[0;32mIn[19], line 13\u001B[0m\n\u001B[1;32m     11\u001B[0m \u001B[38;5;28;01mimport\u001B[39;00m \u001B[38;5;21;01mplotly\u001B[39;00m\u001B[38;5;21;01m.\u001B[39;00m\u001B[38;5;21;01mexpress\u001B[39;00m \u001B[38;5;28;01mas\u001B[39;00m \u001B[38;5;21;01mpx\u001B[39;00m\n\u001B[1;32m     12\u001B[0m df[\u001B[38;5;124m\"\u001B[39m\u001B[38;5;124mcount_log10\u001B[39m\u001B[38;5;124m\"\u001B[39m] \u001B[38;5;241m=\u001B[39m np\u001B[38;5;241m.\u001B[39mlog10(df[\u001B[38;5;124m\"\u001B[39m\u001B[38;5;124mcount\u001B[39m\u001B[38;5;124m\"\u001B[39m]\u001B[38;5;241m+\u001B[39m\u001B[38;5;241m.00001\u001B[39m)\n\u001B[0;32m---> 13\u001B[0m fig \u001B[38;5;241m=\u001B[39m \u001B[43mpx\u001B[49m\u001B[38;5;241;43m.\u001B[39;49m\u001B[43mdensity_mapbox\u001B[49m\u001B[43m(\u001B[49m\u001B[43mmerged_df\u001B[49m\u001B[43m,\u001B[49m\u001B[43m \u001B[49m\u001B[43mlat\u001B[49m\u001B[38;5;241;43m=\u001B[39;49m\u001B[38;5;124;43m'\u001B[39;49m\u001B[38;5;124;43mlatitude\u001B[39;49m\u001B[38;5;124;43m'\u001B[39;49m\u001B[43m,\u001B[49m\u001B[43m \u001B[49m\u001B[43mlon\u001B[49m\u001B[38;5;241;43m=\u001B[39;49m\u001B[38;5;124;43m'\u001B[39;49m\u001B[38;5;124;43mlongitude\u001B[39;49m\u001B[38;5;124;43m'\u001B[39;49m\u001B[43m,\u001B[49m\u001B[43m \u001B[49m\u001B[43mz\u001B[49m\u001B[38;5;241;43m=\u001B[39;49m\u001B[43mdf\u001B[49m\u001B[38;5;241;43m.\u001B[39;49m\u001B[43mcount_log10\u001B[49m\u001B[43m,\u001B[49m\u001B[43m \u001B[49m\u001B[43mradius\u001B[49m\u001B[38;5;241;43m=\u001B[39;49m\u001B[38;5;241;43m10\u001B[39;49m\u001B[43m,\u001B[49m\n\u001B[1;32m     14\u001B[0m \u001B[43m                        \u001B[49m\u001B[43mcenter\u001B[49m\u001B[38;5;241;43m=\u001B[39;49m\u001B[38;5;28;43mdict\u001B[39;49m\u001B[43m(\u001B[49m\u001B[43mlat\u001B[49m\u001B[38;5;241;43m=\u001B[39;49m\u001B[38;5;241;43m36.854598\u001B[39;49m\u001B[43m,\u001B[49m\u001B[43m \u001B[49m\u001B[43mlon\u001B[49m\u001B[38;5;241;43m=\u001B[39;49m\u001B[38;5;241;43m28.261513\u001B[39;49m\u001B[43m)\u001B[49m\u001B[43m,\u001B[49m\u001B[43m \u001B[49m\u001B[43mzoom\u001B[49m\u001B[38;5;241;43m=\u001B[39;49m\u001B[38;5;241;43m5\u001B[39;49m\u001B[43m,\u001B[49m\n\u001B[1;32m     15\u001B[0m \u001B[43m                        \u001B[49m\u001B[43mopacity\u001B[49m\u001B[38;5;241;43m=\u001B[39;49m\u001B[38;5;241;43m1\u001B[39;49m\u001B[43m,\u001B[49m\n\u001B[1;32m     16\u001B[0m \u001B[43m                        \u001B[49m\u001B[43mmapbox_style\u001B[49m\u001B[38;5;241;43m=\u001B[39;49m\u001B[38;5;124;43m\"\u001B[39;49m\u001B[38;5;124;43mstamen-terrain\u001B[39;49m\u001B[38;5;124;43m\"\u001B[39;49m\u001B[43m)\u001B[49m\n\u001B[1;32m     17\u001B[0m fig\u001B[38;5;241m.\u001B[39mshow()\n\u001B[1;32m     18\u001B[0m \u001B[38;5;66;03m# fig.write_html('first_figure.html', auto_open=True)fig.show()\u001B[39;00m\n\u001B[1;32m     19\u001B[0m \u001B[38;5;66;03m# fig.write_html('first_figure.html', auto_open=True)\u001B[39;00m\n",
      "File \u001B[0;32m~/Desktop/git/shutterstock-spider/.venv/lib/python3.9/site-packages/plotly/express/_chart_types.py:1319\u001B[0m, in \u001B[0;36mdensity_mapbox\u001B[0;34m(data_frame, lat, lon, z, hover_name, hover_data, custom_data, animation_frame, animation_group, category_orders, labels, color_continuous_scale, range_color, color_continuous_midpoint, opacity, zoom, center, mapbox_style, radius, title, template, width, height)\u001B[0m\n\u001B[1;32m   1290\u001B[0m \u001B[38;5;28;01mdef\u001B[39;00m \u001B[38;5;21mdensity_mapbox\u001B[39m(\n\u001B[1;32m   1291\u001B[0m     data_frame\u001B[38;5;241m=\u001B[39m\u001B[38;5;28;01mNone\u001B[39;00m,\n\u001B[1;32m   1292\u001B[0m     lat\u001B[38;5;241m=\u001B[39m\u001B[38;5;28;01mNone\u001B[39;00m,\n\u001B[0;32m   (...)\u001B[0m\n\u001B[1;32m   1313\u001B[0m     height\u001B[38;5;241m=\u001B[39m\u001B[38;5;28;01mNone\u001B[39;00m,\n\u001B[1;32m   1314\u001B[0m ) \u001B[38;5;241m-\u001B[39m\u001B[38;5;241m>\u001B[39m go\u001B[38;5;241m.\u001B[39mFigure:\n\u001B[1;32m   1315\u001B[0m     \u001B[38;5;124;03m\"\"\"\u001B[39;00m\n\u001B[1;32m   1316\u001B[0m \u001B[38;5;124;03m    In a Mapbox density map, each row of `data_frame` contributes to the intensity of\u001B[39;00m\n\u001B[1;32m   1317\u001B[0m \u001B[38;5;124;03m    the color of the region around the corresponding point on the map\u001B[39;00m\n\u001B[1;32m   1318\u001B[0m \u001B[38;5;124;03m    \"\"\"\u001B[39;00m\n\u001B[0;32m-> 1319\u001B[0m     \u001B[38;5;28;01mreturn\u001B[39;00m \u001B[43mmake_figure\u001B[49m\u001B[43m(\u001B[49m\n\u001B[1;32m   1320\u001B[0m \u001B[43m        \u001B[49m\u001B[43margs\u001B[49m\u001B[38;5;241;43m=\u001B[39;49m\u001B[38;5;28;43mlocals\u001B[39;49m\u001B[43m(\u001B[49m\u001B[43m)\u001B[49m\u001B[43m,\u001B[49m\u001B[43m \u001B[49m\u001B[43mconstructor\u001B[49m\u001B[38;5;241;43m=\u001B[39;49m\u001B[43mgo\u001B[49m\u001B[38;5;241;43m.\u001B[39;49m\u001B[43mDensitymapbox\u001B[49m\u001B[43m,\u001B[49m\u001B[43m \u001B[49m\u001B[43mtrace_patch\u001B[49m\u001B[38;5;241;43m=\u001B[39;49m\u001B[38;5;28;43mdict\u001B[39;49m\u001B[43m(\u001B[49m\u001B[43mradius\u001B[49m\u001B[38;5;241;43m=\u001B[39;49m\u001B[43mradius\u001B[49m\u001B[43m)\u001B[49m\n\u001B[1;32m   1321\u001B[0m \u001B[43m    \u001B[49m\u001B[43m)\u001B[49m\n",
      "File \u001B[0;32m~/Desktop/git/shutterstock-spider/.venv/lib/python3.9/site-packages/plotly/express/_core.py:1990\u001B[0m, in \u001B[0;36mmake_figure\u001B[0;34m(args, constructor, trace_patch, layout_patch)\u001B[0m\n\u001B[1;32m   1987\u001B[0m layout_patch \u001B[38;5;241m=\u001B[39m layout_patch \u001B[38;5;129;01mor\u001B[39;00m {}\n\u001B[1;32m   1988\u001B[0m apply_default_cascade(args)\n\u001B[0;32m-> 1990\u001B[0m args \u001B[38;5;241m=\u001B[39m \u001B[43mbuild_dataframe\u001B[49m\u001B[43m(\u001B[49m\u001B[43margs\u001B[49m\u001B[43m,\u001B[49m\u001B[43m \u001B[49m\u001B[43mconstructor\u001B[49m\u001B[43m)\u001B[49m\n\u001B[1;32m   1991\u001B[0m \u001B[38;5;28;01mif\u001B[39;00m constructor \u001B[38;5;129;01min\u001B[39;00m [go\u001B[38;5;241m.\u001B[39mTreemap, go\u001B[38;5;241m.\u001B[39mSunburst, go\u001B[38;5;241m.\u001B[39mIcicle] \u001B[38;5;129;01mand\u001B[39;00m args[\u001B[38;5;124m\"\u001B[39m\u001B[38;5;124mpath\u001B[39m\u001B[38;5;124m\"\u001B[39m] \u001B[38;5;129;01mis\u001B[39;00m \u001B[38;5;129;01mnot\u001B[39;00m \u001B[38;5;28;01mNone\u001B[39;00m:\n\u001B[1;32m   1992\u001B[0m     args \u001B[38;5;241m=\u001B[39m process_dataframe_hierarchy(args)\n",
      "File \u001B[0;32m~/Desktop/git/shutterstock-spider/.venv/lib/python3.9/site-packages/plotly/express/_core.py:1405\u001B[0m, in \u001B[0;36mbuild_dataframe\u001B[0;34m(args, constructor)\u001B[0m\n\u001B[1;32m   1402\u001B[0m     args[\u001B[38;5;124m\"\u001B[39m\u001B[38;5;124mcolor\u001B[39m\u001B[38;5;124m\"\u001B[39m] \u001B[38;5;241m=\u001B[39m \u001B[38;5;28;01mNone\u001B[39;00m\n\u001B[1;32m   1403\u001B[0m \u001B[38;5;66;03m# now that things have been prepped, we do the systematic rewriting of `args`\u001B[39;00m\n\u001B[0;32m-> 1405\u001B[0m df_output, wide_id_vars \u001B[38;5;241m=\u001B[39m \u001B[43mprocess_args_into_dataframe\u001B[49m\u001B[43m(\u001B[49m\n\u001B[1;32m   1406\u001B[0m \u001B[43m    \u001B[49m\u001B[43margs\u001B[49m\u001B[43m,\u001B[49m\u001B[43m \u001B[49m\u001B[43mwide_mode\u001B[49m\u001B[43m,\u001B[49m\u001B[43m \u001B[49m\u001B[43mvar_name\u001B[49m\u001B[43m,\u001B[49m\u001B[43m \u001B[49m\u001B[43mvalue_name\u001B[49m\n\u001B[1;32m   1407\u001B[0m \u001B[43m\u001B[49m\u001B[43m)\u001B[49m\n\u001B[1;32m   1409\u001B[0m \u001B[38;5;66;03m# now that `df_output` exists and `args` contains only references, we complete\u001B[39;00m\n\u001B[1;32m   1410\u001B[0m \u001B[38;5;66;03m# the special-case and wide-mode handling by further rewriting args and/or mutating\u001B[39;00m\n\u001B[1;32m   1411\u001B[0m \u001B[38;5;66;03m# df_output\u001B[39;00m\n\u001B[1;32m   1413\u001B[0m count_name \u001B[38;5;241m=\u001B[39m _escape_col_name(df_output, \u001B[38;5;124m\"\u001B[39m\u001B[38;5;124mcount\u001B[39m\u001B[38;5;124m\"\u001B[39m, [var_name, value_name])\n",
      "File \u001B[0;32m~/Desktop/git/shutterstock-spider/.venv/lib/python3.9/site-packages/plotly/express/_core.py:1209\u001B[0m, in \u001B[0;36mprocess_args_into_dataframe\u001B[0;34m(args, wide_mode, var_name, value_name)\u001B[0m\n\u001B[1;32m   1207\u001B[0m         \u001B[38;5;28;01mraise\u001B[39;00m \u001B[38;5;167;01mValueError\u001B[39;00m(err_msg)\n\u001B[1;32m   1208\u001B[0m \u001B[38;5;28;01melif\u001B[39;00m length \u001B[38;5;129;01mand\u001B[39;00m \u001B[38;5;28mlen\u001B[39m(df_input[argument]) \u001B[38;5;241m!=\u001B[39m length:\n\u001B[0;32m-> 1209\u001B[0m     \u001B[38;5;28;01mraise\u001B[39;00m \u001B[38;5;167;01mValueError\u001B[39;00m(\n\u001B[1;32m   1210\u001B[0m         \u001B[38;5;124m\"\u001B[39m\u001B[38;5;124mAll arguments should have the same length. \u001B[39m\u001B[38;5;124m\"\u001B[39m\n\u001B[1;32m   1211\u001B[0m         \u001B[38;5;124m\"\u001B[39m\u001B[38;5;124mThe length of column argument `df[\u001B[39m\u001B[38;5;132;01m%s\u001B[39;00m\u001B[38;5;124m]` is \u001B[39m\u001B[38;5;132;01m%d\u001B[39;00m\u001B[38;5;124m, whereas the \u001B[39m\u001B[38;5;124m\"\u001B[39m\n\u001B[1;32m   1212\u001B[0m         \u001B[38;5;124m\"\u001B[39m\u001B[38;5;124mlength of  previously-processed arguments \u001B[39m\u001B[38;5;132;01m%s\u001B[39;00m\u001B[38;5;124m is \u001B[39m\u001B[38;5;132;01m%d\u001B[39;00m\u001B[38;5;124m\"\u001B[39m\n\u001B[1;32m   1213\u001B[0m         \u001B[38;5;241m%\u001B[39m (\n\u001B[1;32m   1214\u001B[0m             field,\n\u001B[1;32m   1215\u001B[0m             \u001B[38;5;28mlen\u001B[39m(df_input[argument]),\n\u001B[1;32m   1216\u001B[0m             \u001B[38;5;28mstr\u001B[39m(\u001B[38;5;28mlist\u001B[39m(df_output\u001B[38;5;241m.\u001B[39mcolumns)),\n\u001B[1;32m   1217\u001B[0m             length,\n\u001B[1;32m   1218\u001B[0m         )\n\u001B[1;32m   1219\u001B[0m     )\n\u001B[1;32m   1220\u001B[0m \u001B[38;5;28;01melse\u001B[39;00m:\n\u001B[1;32m   1221\u001B[0m     col_name \u001B[38;5;241m=\u001B[39m \u001B[38;5;28mstr\u001B[39m(argument)\n",
      "\u001B[0;31mValueError\u001B[0m: All arguments should have the same length. The length of column argument `df[lat]` is 758, whereas the length of  previously-processed arguments ['z'] is 1741"
     ]
    }
   ],
   "source": [
    "import plotly.io as io\n",
    "import numpy as np\n",
    "io.renderers.default = 'browser'\n",
    "\n",
    "import plotly.express as px\n",
    "\n",
    "import plotly.io as io\n",
    "\n",
    "io.renderers.default = 'browser'\n",
    "\n",
    "import plotly.express as px\n",
    "df[\"count_log10\"] = np.log10(df[\"count\"]+.00001)\n",
    "fig = px.density_mapbox(merged_df, lat='latitude', lon='longitude', z=df.count_log10, radius=10,\n",
    "                        center=dict(lat=36.854598, lon=28.261513), zoom=5,\n",
    "                        opacity=1,\n",
    "                        mapbox_style=\"stamen-terrain\")\n",
    "fig.show()\n",
    "# fig.write_html('first_figure.html', auto_open=True)fig.show()\n",
    "# fig.write_html('first_figure.html', auto_open=True)"
   ],
   "metadata": {
    "collapsed": false,
    "pycharm": {
     "name": "#%%\n"
    }
   }
  },
  {
   "cell_type": "code",
   "execution_count": 21,
   "outputs": [
    {
     "data": {
      "text/plain": "     count          city country  geonameid          name     asciiname  \\\n0        0   Zeytinliova  Turkey     295907   Zeytinliova   Zeytinliova   \n1        1         Yunak  Turkey     296134         Yunak         Yunak   \n2       12         Kozak  Turkey     296509         Kozak         Kozak   \n3     8390         Demre  Turkey     295781         Demre         Demre   \n4       69          Zara  Turkey     295982          Zara          Zara   \n..     ...           ...     ...        ...           ...           ...   \n753      0           Sur  Turkey   10048774           Sur           Sur   \n754    206      Yakutiye  Turkey   10332081      Yakutiye      Yakutiye   \n755    315         Kepez  Turkey   10377367         Kepez         Kepez   \n756      7  Merkezefendi  Turkey   11238838  Merkezefendi  Merkezefendi   \n757    719        Merkez  Turkey   10375669        Merkez        Merkez   \n\n     latitude  longitude  population Country _merge  \n0    38.99118   27.67635        4905  Turkey   both  \n1    38.81418   31.73223       14050  Turkey   both  \n2    39.25124   27.09021           0  Turkey   both  \n3    36.24444   29.98500       14420  Turkey   both  \n4    39.89778   37.75833       12797  Turkey   both  \n..        ...        ...         ...     ...    ...  \n753  37.91351   40.22859           0  Turkey   both  \n754  39.89821   41.26916           0  Turkey   both  \n755  36.91579   30.70782           0  Turkey   both  \n756  37.80544   29.04236      280341  Turkey   both  \n757  40.12954   26.42075           0  Turkey   both  \n\n[758 rows x 11 columns]",
      "text/html": "<div>\n<style scoped>\n    .dataframe tbody tr th:only-of-type {\n        vertical-align: middle;\n    }\n\n    .dataframe tbody tr th {\n        vertical-align: top;\n    }\n\n    .dataframe thead th {\n        text-align: right;\n    }\n</style>\n<table border=\"1\" class=\"dataframe\">\n  <thead>\n    <tr style=\"text-align: right;\">\n      <th></th>\n      <th>count</th>\n      <th>city</th>\n      <th>country</th>\n      <th>geonameid</th>\n      <th>name</th>\n      <th>asciiname</th>\n      <th>latitude</th>\n      <th>longitude</th>\n      <th>population</th>\n      <th>Country</th>\n      <th>_merge</th>\n    </tr>\n  </thead>\n  <tbody>\n    <tr>\n      <th>0</th>\n      <td>0</td>\n      <td>Zeytinliova</td>\n      <td>Turkey</td>\n      <td>295907</td>\n      <td>Zeytinliova</td>\n      <td>Zeytinliova</td>\n      <td>38.99118</td>\n      <td>27.67635</td>\n      <td>4905</td>\n      <td>Turkey</td>\n      <td>both</td>\n    </tr>\n    <tr>\n      <th>1</th>\n      <td>1</td>\n      <td>Yunak</td>\n      <td>Turkey</td>\n      <td>296134</td>\n      <td>Yunak</td>\n      <td>Yunak</td>\n      <td>38.81418</td>\n      <td>31.73223</td>\n      <td>14050</td>\n      <td>Turkey</td>\n      <td>both</td>\n    </tr>\n    <tr>\n      <th>2</th>\n      <td>12</td>\n      <td>Kozak</td>\n      <td>Turkey</td>\n      <td>296509</td>\n      <td>Kozak</td>\n      <td>Kozak</td>\n      <td>39.25124</td>\n      <td>27.09021</td>\n      <td>0</td>\n      <td>Turkey</td>\n      <td>both</td>\n    </tr>\n    <tr>\n      <th>3</th>\n      <td>8390</td>\n      <td>Demre</td>\n      <td>Turkey</td>\n      <td>295781</td>\n      <td>Demre</td>\n      <td>Demre</td>\n      <td>36.24444</td>\n      <td>29.98500</td>\n      <td>14420</td>\n      <td>Turkey</td>\n      <td>both</td>\n    </tr>\n    <tr>\n      <th>4</th>\n      <td>69</td>\n      <td>Zara</td>\n      <td>Turkey</td>\n      <td>295982</td>\n      <td>Zara</td>\n      <td>Zara</td>\n      <td>39.89778</td>\n      <td>37.75833</td>\n      <td>12797</td>\n      <td>Turkey</td>\n      <td>both</td>\n    </tr>\n    <tr>\n      <th>...</th>\n      <td>...</td>\n      <td>...</td>\n      <td>...</td>\n      <td>...</td>\n      <td>...</td>\n      <td>...</td>\n      <td>...</td>\n      <td>...</td>\n      <td>...</td>\n      <td>...</td>\n      <td>...</td>\n    </tr>\n    <tr>\n      <th>753</th>\n      <td>0</td>\n      <td>Sur</td>\n      <td>Turkey</td>\n      <td>10048774</td>\n      <td>Sur</td>\n      <td>Sur</td>\n      <td>37.91351</td>\n      <td>40.22859</td>\n      <td>0</td>\n      <td>Turkey</td>\n      <td>both</td>\n    </tr>\n    <tr>\n      <th>754</th>\n      <td>206</td>\n      <td>Yakutiye</td>\n      <td>Turkey</td>\n      <td>10332081</td>\n      <td>Yakutiye</td>\n      <td>Yakutiye</td>\n      <td>39.89821</td>\n      <td>41.26916</td>\n      <td>0</td>\n      <td>Turkey</td>\n      <td>both</td>\n    </tr>\n    <tr>\n      <th>755</th>\n      <td>315</td>\n      <td>Kepez</td>\n      <td>Turkey</td>\n      <td>10377367</td>\n      <td>Kepez</td>\n      <td>Kepez</td>\n      <td>36.91579</td>\n      <td>30.70782</td>\n      <td>0</td>\n      <td>Turkey</td>\n      <td>both</td>\n    </tr>\n    <tr>\n      <th>756</th>\n      <td>7</td>\n      <td>Merkezefendi</td>\n      <td>Turkey</td>\n      <td>11238838</td>\n      <td>Merkezefendi</td>\n      <td>Merkezefendi</td>\n      <td>37.80544</td>\n      <td>29.04236</td>\n      <td>280341</td>\n      <td>Turkey</td>\n      <td>both</td>\n    </tr>\n    <tr>\n      <th>757</th>\n      <td>719</td>\n      <td>Merkez</td>\n      <td>Turkey</td>\n      <td>10375669</td>\n      <td>Merkez</td>\n      <td>Merkez</td>\n      <td>40.12954</td>\n      <td>26.42075</td>\n      <td>0</td>\n      <td>Turkey</td>\n      <td>both</td>\n    </tr>\n  </tbody>\n</table>\n<p>758 rows × 11 columns</p>\n</div>"
     },
     "execution_count": 21,
     "metadata": {},
     "output_type": "execute_result"
    }
   ],
   "source": [
    "merged_df"
   ],
   "metadata": {
    "collapsed": false,
    "pycharm": {
     "name": "#%%\n"
    }
   }
  },
  {
   "cell_type": "code",
   "execution_count": 117,
   "outputs": [],
   "source": [
    "import plotly.express as px\n",
    "\n",
    "df = px.data.carshare()\n",
    "fig = px.scatter_mapbox(df, lat=\"centroid_lat\", lon=\"centroid_lon\", color=\"peak_hour\", size=df[\"car_hours\"] * 1,\n",
    "                        color_continuous_scale=px.colors.cyclical.IceFire, zoom=10, size_max=30,\n",
    "                        mapbox_style=\"stamen-terrain\")\n",
    "fig.show()\n"
   ],
   "metadata": {
    "collapsed": false,
    "pycharm": {
     "name": "#%%\n"
    }
   }
  },
  {
   "cell_type": "code",
   "execution_count": 70,
   "metadata": {
    "pycharm": {
     "name": "#%%\n"
    }
   },
   "outputs": [],
   "source": [
    "import pandas as pd\n",
    "import plotly.io as io\n",
    "\n",
    "io.renderers.default = 'browser'\n",
    "\n",
    "df = pd.read_csv('https://raw.githubusercontent.com/plotly/datasets/master/earthquakes-23k.csv')\n",
    "\n",
    "import plotly.express as px\n",
    "\n",
    "fig = px.density_mapbox(df, lat='Latitude', lon='Longitude', z=df['Magnitude'] * 5, radius=10,\n",
    "                        center=dict(lat=36.854598, lon=28.261513), zoom=5,\n",
    "                        mapbox_style=\"stamen-terrain\")\n",
    "fig.show()\n",
    "# fig.write_html('first_figure.html', auto_open=True)"
   ]
  },
  {
   "cell_type": "code",
   "execution_count": 62,
   "outputs": [
    {
     "data": {
      "text/plain": "             Date  Latitude  Longitude  Magnitude\n0      01/02/1965   19.2460   145.6160        6.0\n1      01/04/1965    1.8630   127.3520        5.8\n2      01/05/1965  -20.5790  -173.9720        6.2\n3      01/08/1965  -59.0760   -23.5570        5.8\n4      01/09/1965   11.9380   126.4270        5.8\n...           ...       ...        ...        ...\n23407  12/28/2016   38.3917  -118.8941        5.6\n23408  12/28/2016   38.3777  -118.8957        5.5\n23409  12/28/2016   36.9179   140.4262        5.9\n23410  12/29/2016   -9.0283   118.6639        6.3\n23411  12/30/2016   37.3973   141.4103        5.5\n\n[23412 rows x 4 columns]",
      "text/html": "<div>\n<style scoped>\n    .dataframe tbody tr th:only-of-type {\n        vertical-align: middle;\n    }\n\n    .dataframe tbody tr th {\n        vertical-align: top;\n    }\n\n    .dataframe thead th {\n        text-align: right;\n    }\n</style>\n<table border=\"1\" class=\"dataframe\">\n  <thead>\n    <tr style=\"text-align: right;\">\n      <th></th>\n      <th>Date</th>\n      <th>Latitude</th>\n      <th>Longitude</th>\n      <th>Magnitude</th>\n    </tr>\n  </thead>\n  <tbody>\n    <tr>\n      <th>0</th>\n      <td>01/02/1965</td>\n      <td>19.2460</td>\n      <td>145.6160</td>\n      <td>6.0</td>\n    </tr>\n    <tr>\n      <th>1</th>\n      <td>01/04/1965</td>\n      <td>1.8630</td>\n      <td>127.3520</td>\n      <td>5.8</td>\n    </tr>\n    <tr>\n      <th>2</th>\n      <td>01/05/1965</td>\n      <td>-20.5790</td>\n      <td>-173.9720</td>\n      <td>6.2</td>\n    </tr>\n    <tr>\n      <th>3</th>\n      <td>01/08/1965</td>\n      <td>-59.0760</td>\n      <td>-23.5570</td>\n      <td>5.8</td>\n    </tr>\n    <tr>\n      <th>4</th>\n      <td>01/09/1965</td>\n      <td>11.9380</td>\n      <td>126.4270</td>\n      <td>5.8</td>\n    </tr>\n    <tr>\n      <th>...</th>\n      <td>...</td>\n      <td>...</td>\n      <td>...</td>\n      <td>...</td>\n    </tr>\n    <tr>\n      <th>23407</th>\n      <td>12/28/2016</td>\n      <td>38.3917</td>\n      <td>-118.8941</td>\n      <td>5.6</td>\n    </tr>\n    <tr>\n      <th>23408</th>\n      <td>12/28/2016</td>\n      <td>38.3777</td>\n      <td>-118.8957</td>\n      <td>5.5</td>\n    </tr>\n    <tr>\n      <th>23409</th>\n      <td>12/28/2016</td>\n      <td>36.9179</td>\n      <td>140.4262</td>\n      <td>5.9</td>\n    </tr>\n    <tr>\n      <th>23410</th>\n      <td>12/29/2016</td>\n      <td>-9.0283</td>\n      <td>118.6639</td>\n      <td>6.3</td>\n    </tr>\n    <tr>\n      <th>23411</th>\n      <td>12/30/2016</td>\n      <td>37.3973</td>\n      <td>141.4103</td>\n      <td>5.5</td>\n    </tr>\n  </tbody>\n</table>\n<p>23412 rows × 4 columns</p>\n</div>"
     },
     "execution_count": 62,
     "metadata": {},
     "output_type": "execute_result"
    }
   ],
   "source": [
    "df"
   ],
   "metadata": {
    "collapsed": false,
    "pycharm": {
     "name": "#%%\n"
    }
   }
  },
  {
   "cell_type": "code",
   "execution_count": 67,
   "outputs": [
    {
     "data": {
      "text/plain": "0        30.0\n1        29.0\n2        31.0\n3        29.0\n4        29.0\n         ... \n23407    28.0\n23408    27.5\n23409    29.5\n23410    31.5\n23411    27.5\nName: Magnitude, Length: 23412, dtype: float64"
     },
     "execution_count": 67,
     "metadata": {},
     "output_type": "execute_result"
    }
   ],
   "source": [
    "df['Magnitude'] * 5"
   ],
   "metadata": {
    "collapsed": false,
    "pycharm": {
     "name": "#%%\n"
    }
   }
  },
  {
   "cell_type": "code",
   "execution_count": null,
   "outputs": [],
   "source": [],
   "metadata": {
    "collapsed": false,
    "pycharm": {
     "name": "#%%\n"
    }
   }
  }
 ],
 "metadata": {
  "kernelspec": {
   "display_name": "Python 3 (ipykernel)",
   "language": "python",
   "name": "python3"
  },
  "language_info": {
   "codemirror_mode": {
    "name": "ipython",
    "version": 3
   },
   "file_extension": ".py",
   "mimetype": "text/x-python",
   "name": "python",
   "nbconvert_exporter": "python",
   "pygments_lexer": "ipython3",
   "version": "3.9.15"
  }
 },
 "nbformat": 4,
 "nbformat_minor": 1
}